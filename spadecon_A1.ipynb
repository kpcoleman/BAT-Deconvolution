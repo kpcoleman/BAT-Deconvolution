{
 "cells": [
  {
   "cell_type": "markdown",
   "id": "f0d96bbd",
   "metadata": {},
   "source": [
    "# Import Packages"
   ]
  },
  {
   "cell_type": "code",
   "execution_count": 1,
   "id": "7b33f4ed",
   "metadata": {},
   "outputs": [
    {
     "name": "stderr",
     "output_type": "stream",
     "text": [
      "Using TensorFlow backend.\n"
     ]
    }
   ],
   "source": [
    "import SpaDecon as spd\n",
    "import scanpy as sc\n",
    "import pandas as pd\n",
    "import numpy as np\n",
    "from skimage import io"
   ]
  },
  {
   "cell_type": "markdown",
   "id": "165cd167",
   "metadata": {},
   "source": [
    "# Read Histology Image"
   ]
  },
  {
   "cell_type": "code",
   "execution_count": 2,
   "id": "3befd800",
   "metadata": {},
   "outputs": [],
   "source": [
    "histology = io.imread('A1/A1 1_RGB.tif')"
   ]
  },
  {
   "cell_type": "markdown",
   "id": "512fd8db",
   "metadata": {},
   "source": [
    "# Read scRNA-seq and Visium Gene Expression Matrices"
   ]
  },
  {
   "cell_type": "code",
   "execution_count": 3,
   "id": "911f4507",
   "metadata": {},
   "outputs": [],
   "source": [
    "adata_sc = sc.read('1cyc_sc.h5ad')\n",
    "adata_st = sc.read_10x_h5('A1/filtered_feature_bc_matrix.h5')"
   ]
  },
  {
   "cell_type": "markdown",
   "id": "2a49ac80",
   "metadata": {},
   "source": [
    "# Read Spatial Locations"
   ]
  },
  {
   "cell_type": "code",
   "execution_count": 4,
   "id": "f28a0057",
   "metadata": {},
   "outputs": [],
   "source": [
    "locations = pd.read_csv('A1/spatial/tissue_positions_list.csv', index_col = 0, header = None)\n",
    "locations = locations.loc[adata_st.obs.index]"
   ]
  },
  {
   "cell_type": "markdown",
   "id": "eafbf3c3",
   "metadata": {},
   "source": [
    "# Perform Cell-Type Deconvolution Using SpaDecon"
   ]
  },
  {
   "cell_type": "code",
   "execution_count": 5,
   "id": "74ba0473",
   "metadata": {},
   "outputs": [
    {
     "name": "stdout",
     "output_type": "stream",
     "text": [
      "...Calculating adjacency matrix using spatial locations and histology image...\n",
      "   Adjacency matrix calculated\n",
      "...Finding optimal l for p=0.5...\n",
      "   l=0.8570000000000001, p=0.49262\n",
      "the var_names of adata.raw: adata.raw.var_names.is_unique=: True\n",
      "the var_names of adata.raw: adata.raw.var_names.is_unique=: True\n",
      "...Initializing source network using stacked autoencoder...\n",
      "   The number of training cell types is 10\n",
      "   The numbers of nodes in the SAE encoder layers are [64]\n",
      "   The pre-processed scRNA-seq data have 1060 cells and 147 genes\n",
      "   The pre-processed ST data have 1264 spots and 147 genes\n",
      "   ...Pretraining the 1th layer...\n",
      "      The 1th layer has been pretrained\n",
      "   ...Copying layer-wise pretrained weights to deep autoencoders...\n",
      "   ...Fine-tuning autoencoder end-to-end...\n",
      "...Optimizing source network through cell clustering...\n",
      "   Source network optimized\n"
     ]
    },
    {
     "data": {
      "text/html": [
       "<div>\n",
       "<style scoped>\n",
       "    .dataframe tbody tr th:only-of-type {\n",
       "        vertical-align: middle;\n",
       "    }\n",
       "\n",
       "    .dataframe tbody tr th {\n",
       "        vertical-align: top;\n",
       "    }\n",
       "\n",
       "    .dataframe thead th {\n",
       "        text-align: right;\n",
       "    }\n",
       "</style>\n",
       "<table border=\"1\" class=\"dataframe\">\n",
       "  <thead>\n",
       "    <tr style=\"text-align: right;\">\n",
       "      <th></th>\n",
       "      <th>A1</th>\n",
       "      <th>A2</th>\n",
       "      <th>A3</th>\n",
       "      <th>A4</th>\n",
       "      <th>A5</th>\n",
       "      <th>Endothelial</th>\n",
       "      <th>Fibroblast</th>\n",
       "      <th>Immune</th>\n",
       "      <th>Skeletal Muscle</th>\n",
       "      <th>Smooth Muscle</th>\n",
       "    </tr>\n",
       "  </thead>\n",
       "  <tbody>\n",
       "    <tr>\n",
       "      <th>AAACCGGGTAGGTACC-1</th>\n",
       "      <td>0.364754</td>\n",
       "      <td>0.065695</td>\n",
       "      <td>0.048730</td>\n",
       "      <td>0.035769</td>\n",
       "      <td>0.078514</td>\n",
       "      <td>0.084429</td>\n",
       "      <td>0.093237</td>\n",
       "      <td>0.080743</td>\n",
       "      <td>0.045277</td>\n",
       "      <td>0.102851</td>\n",
       "    </tr>\n",
       "    <tr>\n",
       "      <th>AAACCGTTCGTCCAGG-1</th>\n",
       "      <td>0.021577</td>\n",
       "      <td>0.083210</td>\n",
       "      <td>0.146379</td>\n",
       "      <td>0.587111</td>\n",
       "      <td>0.052379</td>\n",
       "      <td>0.025810</td>\n",
       "      <td>0.021238</td>\n",
       "      <td>0.022438</td>\n",
       "      <td>0.017875</td>\n",
       "      <td>0.021981</td>\n",
       "    </tr>\n",
       "    <tr>\n",
       "      <th>AAACCTAAGCAGCCGG-1</th>\n",
       "      <td>0.258752</td>\n",
       "      <td>0.072169</td>\n",
       "      <td>0.054339</td>\n",
       "      <td>0.043160</td>\n",
       "      <td>0.089231</td>\n",
       "      <td>0.101426</td>\n",
       "      <td>0.121869</td>\n",
       "      <td>0.101189</td>\n",
       "      <td>0.050959</td>\n",
       "      <td>0.106907</td>\n",
       "    </tr>\n",
       "    <tr>\n",
       "      <th>AAACGGTTGCGAACTG-1</th>\n",
       "      <td>0.023040</td>\n",
       "      <td>0.132662</td>\n",
       "      <td>0.266442</td>\n",
       "      <td>0.393866</td>\n",
       "      <td>0.068963</td>\n",
       "      <td>0.026720</td>\n",
       "      <td>0.023748</td>\n",
       "      <td>0.023865</td>\n",
       "      <td>0.017477</td>\n",
       "      <td>0.023217</td>\n",
       "    </tr>\n",
       "    <tr>\n",
       "      <th>AAACTCGGTTCGCAAT-1</th>\n",
       "      <td>0.319665</td>\n",
       "      <td>0.097713</td>\n",
       "      <td>0.066319</td>\n",
       "      <td>0.057778</td>\n",
       "      <td>0.100225</td>\n",
       "      <td>0.085722</td>\n",
       "      <td>0.084954</td>\n",
       "      <td>0.074333</td>\n",
       "      <td>0.037813</td>\n",
       "      <td>0.075479</td>\n",
       "    </tr>\n",
       "    <tr>\n",
       "      <th>...</th>\n",
       "      <td>...</td>\n",
       "      <td>...</td>\n",
       "      <td>...</td>\n",
       "      <td>...</td>\n",
       "      <td>...</td>\n",
       "      <td>...</td>\n",
       "      <td>...</td>\n",
       "      <td>...</td>\n",
       "      <td>...</td>\n",
       "      <td>...</td>\n",
       "    </tr>\n",
       "    <tr>\n",
       "      <th>TTGTGTATGCCACCAA-1</th>\n",
       "      <td>0.016658</td>\n",
       "      <td>0.090247</td>\n",
       "      <td>0.169562</td>\n",
       "      <td>0.583472</td>\n",
       "      <td>0.052054</td>\n",
       "      <td>0.021025</td>\n",
       "      <td>0.017872</td>\n",
       "      <td>0.018111</td>\n",
       "      <td>0.013390</td>\n",
       "      <td>0.017610</td>\n",
       "    </tr>\n",
       "    <tr>\n",
       "      <th>TTGTGTTTCCCGAAAG-1</th>\n",
       "      <td>0.024579</td>\n",
       "      <td>0.095816</td>\n",
       "      <td>0.150641</td>\n",
       "      <td>0.534823</td>\n",
       "      <td>0.060977</td>\n",
       "      <td>0.031381</td>\n",
       "      <td>0.025988</td>\n",
       "      <td>0.027685</td>\n",
       "      <td>0.021807</td>\n",
       "      <td>0.026303</td>\n",
       "    </tr>\n",
       "    <tr>\n",
       "      <th>TTGTTTCACATCCAGG-1</th>\n",
       "      <td>0.021615</td>\n",
       "      <td>0.178876</td>\n",
       "      <td>0.443274</td>\n",
       "      <td>0.168513</td>\n",
       "      <td>0.077394</td>\n",
       "      <td>0.025625</td>\n",
       "      <td>0.023385</td>\n",
       "      <td>0.022325</td>\n",
       "      <td>0.016058</td>\n",
       "      <td>0.022934</td>\n",
       "    </tr>\n",
       "    <tr>\n",
       "      <th>TTGTTTCATTAGTCTA-1</th>\n",
       "      <td>0.058947</td>\n",
       "      <td>0.168667</td>\n",
       "      <td>0.200915</td>\n",
       "      <td>0.128577</td>\n",
       "      <td>0.196190</td>\n",
       "      <td>0.059198</td>\n",
       "      <td>0.053862</td>\n",
       "      <td>0.051217</td>\n",
       "      <td>0.034140</td>\n",
       "      <td>0.048287</td>\n",
       "    </tr>\n",
       "    <tr>\n",
       "      <th>TTGTTTCCATACAACT-1</th>\n",
       "      <td>0.210829</td>\n",
       "      <td>0.168748</td>\n",
       "      <td>0.104576</td>\n",
       "      <td>0.086951</td>\n",
       "      <td>0.128086</td>\n",
       "      <td>0.071111</td>\n",
       "      <td>0.065941</td>\n",
       "      <td>0.063409</td>\n",
       "      <td>0.034422</td>\n",
       "      <td>0.065928</td>\n",
       "    </tr>\n",
       "  </tbody>\n",
       "</table>\n",
       "<p>1264 rows × 10 columns</p>\n",
       "</div>"
      ],
      "text/plain": [
       "                          A1        A2        A3        A4        A5  \\\n",
       "AAACCGGGTAGGTACC-1  0.364754  0.065695  0.048730  0.035769  0.078514   \n",
       "AAACCGTTCGTCCAGG-1  0.021577  0.083210  0.146379  0.587111  0.052379   \n",
       "AAACCTAAGCAGCCGG-1  0.258752  0.072169  0.054339  0.043160  0.089231   \n",
       "AAACGGTTGCGAACTG-1  0.023040  0.132662  0.266442  0.393866  0.068963   \n",
       "AAACTCGGTTCGCAAT-1  0.319665  0.097713  0.066319  0.057778  0.100225   \n",
       "...                      ...       ...       ...       ...       ...   \n",
       "TTGTGTATGCCACCAA-1  0.016658  0.090247  0.169562  0.583472  0.052054   \n",
       "TTGTGTTTCCCGAAAG-1  0.024579  0.095816  0.150641  0.534823  0.060977   \n",
       "TTGTTTCACATCCAGG-1  0.021615  0.178876  0.443274  0.168513  0.077394   \n",
       "TTGTTTCATTAGTCTA-1  0.058947  0.168667  0.200915  0.128577  0.196190   \n",
       "TTGTTTCCATACAACT-1  0.210829  0.168748  0.104576  0.086951  0.128086   \n",
       "\n",
       "                    Endothelial  Fibroblast    Immune  Skeletal Muscle  \\\n",
       "AAACCGGGTAGGTACC-1     0.084429    0.093237  0.080743         0.045277   \n",
       "AAACCGTTCGTCCAGG-1     0.025810    0.021238  0.022438         0.017875   \n",
       "AAACCTAAGCAGCCGG-1     0.101426    0.121869  0.101189         0.050959   \n",
       "AAACGGTTGCGAACTG-1     0.026720    0.023748  0.023865         0.017477   \n",
       "AAACTCGGTTCGCAAT-1     0.085722    0.084954  0.074333         0.037813   \n",
       "...                         ...         ...       ...              ...   \n",
       "TTGTGTATGCCACCAA-1     0.021025    0.017872  0.018111         0.013390   \n",
       "TTGTGTTTCCCGAAAG-1     0.031381    0.025988  0.027685         0.021807   \n",
       "TTGTTTCACATCCAGG-1     0.025625    0.023385  0.022325         0.016058   \n",
       "TTGTTTCATTAGTCTA-1     0.059198    0.053862  0.051217         0.034140   \n",
       "TTGTTTCCATACAACT-1     0.071111    0.065941  0.063409         0.034422   \n",
       "\n",
       "                    Smooth Muscle  \n",
       "AAACCGGGTAGGTACC-1       0.102851  \n",
       "AAACCGTTCGTCCAGG-1       0.021981  \n",
       "AAACCTAAGCAGCCGG-1       0.106907  \n",
       "AAACGGTTGCGAACTG-1       0.023217  \n",
       "AAACTCGGTTCGCAAT-1       0.075479  \n",
       "...                           ...  \n",
       "TTGTGTATGCCACCAA-1       0.017610  \n",
       "TTGTGTTTCCCGAAAG-1       0.026303  \n",
       "TTGTTTCACATCCAGG-1       0.022934  \n",
       "TTGTTTCATTAGTCTA-1       0.048287  \n",
       "TTGTTTCCATACAACT-1       0.065928  \n",
       "\n",
       "[1264 rows x 10 columns]"
      ]
     },
     "execution_count": 5,
     "metadata": {},
     "output_type": "execute_result"
    }
   ],
   "source": [
    "np.random.seed(10)\n",
    "clf = spd.SpaDecon()\n",
    "clf.deconvolution(adata_sc, adata_st, histology, locations)"
   ]
  },
  {
   "cell_type": "markdown",
   "id": "89d5d5b6",
   "metadata": {},
   "source": [
    "# Save Cell-Type Proportions"
   ]
  },
  {
   "cell_type": "code",
   "execution_count": 6,
   "id": "449324ff",
   "metadata": {},
   "outputs": [],
   "source": [
    "spadecon_props = clf.props\n",
    "spadecon_props.to_csv('spadecon_A1_props.csv')"
   ]
  }
 ],
 "metadata": {
  "kernelspec": {
   "display_name": "spadecon",
   "language": "python",
   "name": "spadecon"
  },
  "language_info": {
   "codemirror_mode": {
    "name": "ipython",
    "version": 3
   },
   "file_extension": ".py",
   "mimetype": "text/x-python",
   "name": "python",
   "nbconvert_exporter": "python",
   "pygments_lexer": "ipython3",
   "version": "3.7.4"
  }
 },
 "nbformat": 4,
 "nbformat_minor": 5
}
